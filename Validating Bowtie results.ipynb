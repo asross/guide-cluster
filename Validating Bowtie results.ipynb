{
 "cells": [
  {
   "cell_type": "code",
   "execution_count": 1,
   "metadata": {
    "collapsed": true
   },
   "outputs": [],
   "source": [
    "%matplotlib inline\n",
    "import matplotlib.pyplot as plt\n",
    "import numpy\n",
    "from guide.dataset import GuideDataset\n",
    "from collections import defaultdict"
   ]
  },
  {
   "cell_type": "markdown",
   "metadata": {},
   "source": [
    "# Validating Bowtie Results\n",
    "\n",
    "We want to confirm that the results we're getting from Bowtie make sense.\n",
    "\n",
    "Since each gRNA row has a `gene_name`, we can check whether gRNAs targeting the same gene (1) appear on the same chromosome and, if so, whether they (2) are close to one another on that chromosome."
   ]
  },
  {
   "cell_type": "code",
   "execution_count": 2,
   "metadata": {
    "collapsed": true
   },
   "outputs": [],
   "source": [
    "dataset = GuideDataset('data/example_guide_data_with_bowtie_with_mfold.tsv')\n",
    "points = dataset.points"
   ]
  },
  {
   "cell_type": "code",
   "execution_count": 3,
   "metadata": {
    "collapsed": false
   },
   "outputs": [
    {
     "name": "stdout",
     "output_type": "stream",
     "text": [
      "17419\n",
      "17419\n"
     ]
    }
   ],
   "source": [
    "genes = list(set([p.row['gene_name'] for p in points]))\n",
    "points_by_gene = defaultdict(list)\n",
    "for p in points:\n",
    "    points_by_gene[p.row['gene_name']].append(p)\n",
    "\n",
    "print(len(points_by_gene))\n",
    "print(len(genes))"
   ]
  },
  {
   "cell_type": "code",
   "execution_count": 4,
   "metadata": {
    "collapsed": false
   },
   "outputs": [
    {
     "data": {
      "text/plain": [
       "[<guide.datapoint.GuideDatapoint at 0x108a1c860>,\n",
       " <guide.datapoint.GuideDatapoint at 0x108a1c908>,\n",
       " <guide.datapoint.GuideDatapoint at 0x108a1c9b0>]"
      ]
     },
     "execution_count": 4,
     "metadata": {},
     "output_type": "execute_result"
    }
   ],
   "source": [
    "list(points_by_gene[genes[0]])"
   ]
  },
  {
   "cell_type": "code",
   "execution_count": 46,
   "metadata": {
    "collapsed": false
   },
   "outputs": [],
   "source": [
    "perfect_genes = []\n",
    "flawed_genes = []\n",
    "\n",
    "def bowties(points): return [p.bowtie_result() for p in points if p.bowtie_result().exact_match()]\n",
    "def chromosomes(points): return [b.chromosome() for b in points]\n",
    "\n",
    "for gene in genes:\n",
    "    points = points_by_gene[gene]\n",
    "    _bowties = bowties(points)\n",
    "    chromes = chromosomes(_bowties)\n",
    "    if len(set(chromes)) == 1:\n",
    "        indexes = [b.exact_match().index for b in _bowties]\n",
    "        sigma, mean = numpy.std(indexes), numpy.mean(indexes)\n",
    "        perfect_genes.append([gene, [sigma, mean]])\n",
    "    elif len(set(chromes)) > 1:\n",
    "        flawed_genes.append(gene)"
   ]
  },
  {
   "cell_type": "code",
   "execution_count": 47,
   "metadata": {
    "collapsed": false
   },
   "outputs": [
    {
     "data": {
      "text/plain": [
       "17385"
      ]
     },
     "execution_count": 47,
     "metadata": {},
     "output_type": "execute_result"
    }
   ],
   "source": [
    "len(perfect_genes)"
   ]
  },
  {
   "cell_type": "code",
   "execution_count": 48,
   "metadata": {
    "collapsed": false
   },
   "outputs": [
    {
     "data": {
      "text/plain": [
       "2"
      ]
     },
     "execution_count": 48,
     "metadata": {},
     "output_type": "execute_result"
    }
   ],
   "source": [
    "len(flawed_genes)"
   ]
  },
  {
   "cell_type": "code",
   "execution_count": 55,
   "metadata": {
    "collapsed": false
   },
   "outputs": [
    {
     "data": {
      "text/plain": [
       "[['CCDC126', [14847.858925335553, 23632508.0]],\n",
       " ['KCNMB2', [1301.1986034251481, 178826966.16666666]],\n",
       " ['NAV3', [54432.505662976786, 77885962.5]],\n",
       " ['C14orf39', [556.39214787973253, 60484123.333333336]],\n",
       " ['RBM12B', [799.0, 93735522.0]],\n",
       " ['S100A5', [1205.2778465980366, 153538040.75]],\n",
       " ['TIGD3', [344.5, 65356373.5]],\n",
       " ['XKRX', [4031.4593744077342, 100918857.25]],\n",
       " ['GEMIN4', [2439.7598697868243, 750402.33333333337]],\n",
       " ['POP5', [905.33043000884493, 120580437.25]],\n",
       " ['DCTN1', [2701.148126260387, 74376098.0]],\n",
       " ['DNAL1', [3013.8645768348651, 73657676.75]],\n",
       " ['FERMT1', [1680.4487495904182, 6114209.0]],\n",
       " ['GDI2', [5484.2103250047667, 5789056.333333333]],\n",
       " ['KIAA1430', [5930.3652237868118, 185170027.75]],\n",
       " ['KLK8', [2347.0813554048118, 50997810.333333336]],\n",
       " ['NRSN1', [5595.2509494659844, 24139983.75]],\n",
       " ['SCLT1', [16595.510964941695, 129072738.25]],\n",
       " ['SPP2', [776.565032692047, 234059660.5]],\n",
       " ['PARP8', [7851.5404946347244, 50786443.166666664]],\n",
       " ['RAB11FIP5', [398.56158035281493, 73088679.0]],\n",
       " ['AARD', [2044.2477018861159, 116939782.0]],\n",
       " ['ZFP161', [116.5, 5291676.5]],\n",
       " ['C1orf61', [2944.175776002513, 156409580.0]],\n",
       " ['CAPRIN1', [78.0185163207356, 34071789.333333336]],\n",
       " ['ARHGEF10L', [6327.8763025204589, 17591231.0]],\n",
       " ['CD52', [1062.0899020327799, 26319347.800000001]],\n",
       " ['HPD', [684.58740739758491, 121857444.28571428]],\n",
       " ['ZNRF4', [318.5, 5455886.5]],\n",
       " ['PRKACA', [4912.1723865877866, 14110581.333333334]]]"
      ]
     },
     "execution_count": 55,
     "metadata": {},
     "output_type": "execute_result"
    }
   ],
   "source": [
    "perfect_genes[0:30]"
   ]
  },
  {
   "cell_type": "markdown",
   "metadata": {},
   "source": [
    "For the most part, it looks like the Bowtie search results for gRNAs targeting the same genes make sense! Almost all of the gRNA exact matches are on the same chromosome, and fairly closely clustered together within that same chromosome, which we would expect if they are truly targeting the same gene. "
   ]
  },
  {
   "cell_type": "code",
   "execution_count": null,
   "metadata": {
    "collapsed": true
   },
   "outputs": [],
   "source": []
  }
 ],
 "metadata": {
  "kernelspec": {
   "display_name": "Python 3",
   "language": "python",
   "name": "python3"
  },
  "language_info": {
   "codemirror_mode": {
    "name": "ipython",
    "version": 3
   },
   "file_extension": ".py",
   "mimetype": "text/x-python",
   "name": "python",
   "nbconvert_exporter": "python",
   "pygments_lexer": "ipython3",
   "version": "3.4.3"
  }
 },
 "nbformat": 4,
 "nbformat_minor": 0
}
