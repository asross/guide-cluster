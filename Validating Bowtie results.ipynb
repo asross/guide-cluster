{
 "cells": [
  {
   "cell_type": "markdown",
   "metadata": {},
   "source": [
    "# Validating Bowtie Results\n",
    "\n",
    "We want to confirm that the results we're getting from Bowtie make sense.\n",
    "\n",
    "Since each gRNA row has a `gene_name`, we can check whether gRNAs targeting the same gene (1) appear on the same chromosome and, if so, whether they (2) are close to one another on that chromosome."
   ]
  },
  {
   "cell_type": "code",
   "execution_count": 19,
   "metadata": {
    "collapsed": true
   },
   "outputs": [],
   "source": [
    "import numpy\n",
    "from guide.dataset import GuideDataset\n",
    "from collections import defaultdict"
   ]
  },
  {
   "cell_type": "code",
   "execution_count": 20,
   "metadata": {
    "collapsed": true
   },
   "outputs": [],
   "source": [
    "dataset = GuideDataset('data/example_guide_data_with_bowtie_with_mfold.tsv')\n",
    "points = dataset.points"
   ]
  },
  {
   "cell_type": "markdown",
   "metadata": {},
   "source": [
    "First let's group all of the rows of the TSV by `gene_name`:"
   ]
  },
  {
   "cell_type": "code",
   "execution_count": 21,
   "metadata": {
    "collapsed": false
   },
   "outputs": [
    {
     "name": "stdout",
     "output_type": "stream",
     "text": [
      "17419\n",
      "17419\n"
     ]
    },
    {
     "data": {
      "text/plain": [
       "[<guide.datapoint.GuideDatapoint at 0x12f881320>,\n",
       " <guide.datapoint.GuideDatapoint at 0x12f8813c8>,\n",
       " <guide.datapoint.GuideDatapoint at 0x12f881470>]"
      ]
     },
     "execution_count": 21,
     "metadata": {},
     "output_type": "execute_result"
    }
   ],
   "source": [
    "genes = list(set([p.row['gene_name'] for p in points]))\n",
    "points_by_gene = defaultdict(list)\n",
    "for p in points:\n",
    "    points_by_gene[p.row['gene_name']].append(p)\n",
    "\n",
    "print(len(points_by_gene))\n",
    "print(len(genes))\n",
    "list(points_by_gene[genes[0]])"
   ]
  },
  {
   "cell_type": "markdown",
   "metadata": {
    "collapsed": false
   },
   "source": [
    "Now let's check to see if all points with the same `gene_name` had exact Bowtie matches in the same chromosome -- and if so, whether they were close to each other within that chromosome."
   ]
  },
  {
   "cell_type": "code",
   "execution_count": 22,
   "metadata": {
    "collapsed": false
   },
   "outputs": [
    {
     "name": "stdout",
     "output_type": "stream",
     "text": [
      "genes for which all points' bowtie results were on the same chromosome:\n",
      "17385\n",
      "genes for which some points' bowtie results were on different chromosomes:\n",
      "2\n"
     ]
    }
   ],
   "source": [
    "perfect_genes = []\n",
    "flawed_genes = []\n",
    "\n",
    "def bowties(points): return [p.bowtie_result() for p in points if p.bowtie_result().exact_match()]\n",
    "def chromosomes(points): return [b.chromosome() for b in points]\n",
    "\n",
    "for gene in genes:\n",
    "    points = points_by_gene[gene]\n",
    "    _bowties = bowties(points)\n",
    "    chromes = chromosomes(_bowties)\n",
    "    if len(set(chromes)) == 1:\n",
    "        indexes = [b.exact_match().index for b in _bowties]\n",
    "        sigma, mean, count = numpy.std(indexes), numpy.mean(indexes), len(indexes)\n",
    "        perfect_genes.append([gene, [sigma, mean, count]])\n",
    "    elif len(set(chromes)) > 1:\n",
    "        flawed_genes.append(gene)\n",
    "        \n",
    "print(\"genes for which all points' bowtie results were on the same chromosome:\")\n",
    "print(len(perfect_genes))\n",
    "print(\"genes for which some points' bowtie results were on different chromosomes:\")\n",
    "print(len(flawed_genes))"
   ]
  },
  {
   "cell_type": "code",
   "execution_count": 23,
   "metadata": {
    "collapsed": false
   },
   "outputs": [
    {
     "data": {
      "text/plain": [
       "[['SYNE1', [41624.312529524803, 152598848.66666666, 3]],\n",
       " ['TP53AIP1', [832.46756387138544, 128936502.57142857, 7]],\n",
       " ['VWCE', [1704.4467394142887, 61293252.75, 4]],\n",
       " ['EXPH5', [25888.26351240075, 108567561.75, 4]],\n",
       " ['GAPVD1', [1716.0270066348023, 125300706.75, 4]],\n",
       " ['HDLBP', [1402.7461236802617, 241264708.75, 4]],\n",
       " ['CCDC111', [2834.0441510322312, 184661016.5, 4]],\n",
       " ['PILRB', [8.5, 100358806.5, 2]],\n",
       " ['PHYHD1', [1217.5, 128935257.5, 2]],\n",
       " ['TMEM244', [1050.0162961698368, 129844300.33333333, 3]]]"
      ]
     },
     "execution_count": 23,
     "metadata": {},
     "output_type": "execute_result"
    }
   ],
   "source": [
    "perfect_genes[0:10]"
   ]
  },
  {
   "cell_type": "markdown",
   "metadata": {},
   "source": [
    "For the most part, it looks like the Bowtie search results for gRNAs targeting the same genes make sense! Almost all of the gRNA exact matches are on the same chromosome, and fairly closely clustered together within that same chromosome, which we would expect if they are truly targeting the same gene. "
   ]
  },
  {
   "cell_type": "code",
   "execution_count": 24,
   "metadata": {
    "collapsed": false
   },
   "outputs": [
    {
     "name": "stdout",
     "output_type": "stream",
     "text": [
      "6800.31310316\n"
     ]
    }
   ],
   "source": [
    "mean_sigma = numpy.mean([pg[1][0] for pg in perfect_genes])\n",
    "print(mean_sigma)"
   ]
  },
  {
   "cell_type": "markdown",
   "metadata": {},
   "source": [
    "On average, the hit indexes for the same target gene are an average (again) of 6800bp removed from their average (again again). Since [Google](http://bionumbers.hms.harvard.edu/bionumber.aspx?&id=104316&ver=1) tells me that the average gene length in the human genome is about 10000-15000bp, that makes sense and is consistent with them actually being on the same gene. "
   ]
  },
  {
   "cell_type": "code",
   "execution_count": null,
   "metadata": {
    "collapsed": true
   },
   "outputs": [],
   "source": []
  }
 ],
 "metadata": {
  "kernelspec": {
   "display_name": "Python 3",
   "language": "python",
   "name": "python3"
  },
  "language_info": {
   "codemirror_mode": {
    "name": "ipython",
    "version": 3
   },
   "file_extension": ".py",
   "mimetype": "text/x-python",
   "name": "python",
   "nbconvert_exporter": "python",
   "pygments_lexer": "ipython3",
   "version": "3.4.3"
  }
 },
 "nbformat": 4,
 "nbformat_minor": 0
}
